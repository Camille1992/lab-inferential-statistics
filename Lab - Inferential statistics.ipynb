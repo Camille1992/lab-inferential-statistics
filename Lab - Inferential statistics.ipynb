{
 "cells": [
  {
   "cell_type": "markdown",
   "id": "20e687d3",
   "metadata": {},
   "source": [
    "**Instructions**\n",
    "\n",
    "1. It is assumed that the mean systolic blood pressure is **μ = 120 mm Hg**. \\\n",
    "    In the Honolulu Heart Study, a sample of **n = 100** people had an average systolic blood pressure of **130.1 mm Hg** with a standard deviation of **21.21 mm Hg**. \\\n",
    "    Is the group significantly different (with respect to systolic blood pressure!) from the regular population?\\\n",
    "\n",
    "        -Set up the hypothesis test:\n",
    "            - We define the null hypothesis H0: μ = 120 mm Hg\n",
    "            - And the alternative hypothesis Ha: μ > 120 mm Hg\n",
    "            - It is a one-tailed test.\n",
    "            \n",
    "        -Write down all the steps followed for setting up the test. \n",
    "        \n",
    "        -Calculate the test statistic by hand and also code it in Python. It should be 4.76190. We will take a look at how to make decisions based on this calculated value. \n",
    "        \n",
    "        -If you finished the previous question, please go through the code for principal_component_analysis_example provided in the files_for_lab folder ."
   ]
  },
  {
   "cell_type": "code",
   "execution_count": 6,
   "id": "4904f222",
   "metadata": {},
   "outputs": [
    {
     "data": {
      "text/plain": [
       "-4.761904761904759"
      ]
     },
     "execution_count": 6,
     "metadata": {},
     "output_type": "execute_result"
    }
   ],
   "source": [
    "import math\n",
    "\n",
    "sample_mean = 120\n",
    "pop_mean = 130.1\n",
    "pop_std = 21.21\n",
    "n = 100\n",
    "degree = n-1\n",
    "\n",
    "statistic = (sample_mean - pop_mean)/(pop_std/math.sqrt(n))\n",
    "statistic"
   ]
  },
  {
   "cell_type": "code",
   "execution_count": null,
   "id": "28da9999",
   "metadata": {},
   "outputs": [],
   "source": []
  }
 ],
 "metadata": {
  "kernelspec": {
   "display_name": "Python 3 (ipykernel)",
   "language": "python",
   "name": "python3"
  },
  "language_info": {
   "codemirror_mode": {
    "name": "ipython",
    "version": 3
   },
   "file_extension": ".py",
   "mimetype": "text/x-python",
   "name": "python",
   "nbconvert_exporter": "python",
   "pygments_lexer": "ipython3",
   "version": "3.9.7"
  }
 },
 "nbformat": 4,
 "nbformat_minor": 5
}
